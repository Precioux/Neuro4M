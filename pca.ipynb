{
 "cells": [
  {
   "cell_type": "code",
   "id": "initial_id",
   "metadata": {
    "collapsed": true,
    "ExecuteTime": {
     "end_time": "2025-07-25T22:54:00.531032Z",
     "start_time": "2025-07-25T22:53:59.157199Z"
    }
   },
   "source": [
    "import nibabel as nib\n",
    "import numpy as np\n",
    "\n",
    "path = \"/Users/precioux/Desktop/NeuroAI/NSD/nsddata_betas/ppdata/subj01/fsaverage/betas_fithrf/rh.betas_session01.mgh\"\n",
    "\n",
    "img = nib.load(path)\n",
    "data = img.get_fdata()  # shape: (vertices, 1, 1, stimuli)\n",
    "data_reshaped = data.reshape(data.shape[0], data.shape[3]).T  # shape: (stimuli, vertices)\n",
    "print(\"Shape after reshape:\", data_reshaped.shape)\n"
   ],
   "outputs": [
    {
     "name": "stdout",
     "output_type": "stream",
     "text": [
      "Shape after reshape: (750, 163842)\n"
     ]
    }
   ],
   "execution_count": 1
  },
  {
   "metadata": {
    "ExecuteTime": {
     "end_time": "2025-07-25T22:54:55.293704Z",
     "start_time": "2025-07-25T22:54:44.802750Z"
    }
   },
   "cell_type": "code",
   "source": [
    "from sklearn.decomposition import PCA\n",
    "\n",
    "n_components = 100\n",
    "pca = PCA(n_components=n_components)\n",
    "X_pca = pca.fit_transform(data_reshaped)\n",
    "\n",
    "print(\"Encoded shape:\", X_pca.shape)\n",
    "print(\"Explained variance ratio (first 10):\", pca.explained_variance_ratio_[:10])\n",
    "print(\"Total explained variance:\", np.sum(pca.explained_variance_ratio_))\n"
   ],
   "id": "9d653fb734bfbc41",
   "outputs": [
    {
     "name": "stdout",
     "output_type": "stream",
     "text": [
      "Encoded shape: (750, 100)\n",
      "Explained variance ratio (first 10): [0.05334477 0.04698551 0.03531625 0.02721649 0.02145335 0.02047172\n",
      " 0.01940362 0.01686613 0.01505302 0.01345539]\n",
      "Total explained variance: 0.6567909112607051\n"
     ]
    }
   ],
   "execution_count": 2
  },
  {
   "metadata": {
    "ExecuteTime": {
     "end_time": "2025-07-25T23:04:22.264441Z",
     "start_time": "2025-07-25T23:04:22.260754Z"
    }
   },
   "cell_type": "code",
   "source": "labels = np.tile(np.arange(75), 10)  # shape: (750,)\n",
   "id": "5d25474112dc8e6b",
   "outputs": [],
   "execution_count": 3
  },
  {
   "metadata": {
    "ExecuteTime": {
     "end_time": "2025-07-25T23:04:25.518044Z",
     "start_time": "2025-07-25T23:04:24.901269Z"
    }
   },
   "cell_type": "code",
   "source": [
    "from sklearn.svm import SVC\n",
    "from sklearn.model_selection import train_test_split\n",
    "from sklearn.metrics import accuracy_score, classification_report\n",
    "import matplotlib.pyplot as plt\n",
    "\n",
    "# Define your labels — assuming it's already a list or array of shape (750,)\n",
    "# Example: labels = np.tile(np.arange(75), 10)  # if each stimulus repeated 10 times\n",
    "# Make sure to match the order of data_reshaped\n",
    "\n",
    "# Split into train/test\n",
    "X_train, X_test, y_train, y_test = train_test_split(X_pca, labels, test_size=0.2, random_state=42, stratify=labels)\n",
    "\n",
    "# Train linear SVC\n",
    "svc = SVC(kernel='linear', C=1)\n",
    "svc.fit(X_train, y_train)\n",
    "\n",
    "# Predict and evaluate\n",
    "y_pred = svc.predict(X_test)\n",
    "acc = accuracy_score(y_test, y_pred)\n",
    "\n",
    "print(\"Test Accuracy:\", acc)\n",
    "print(classification_report(y_test, y_pred))\n"
   ],
   "id": "3c6fb570be4e5f9c",
   "outputs": [
    {
     "name": "stdout",
     "output_type": "stream",
     "text": [
      "Test Accuracy: 0.0\n",
      "              precision    recall  f1-score   support\n",
      "\n",
      "           0       0.00      0.00      0.00       2.0\n",
      "           1       0.00      0.00      0.00       2.0\n",
      "           2       0.00      0.00      0.00       2.0\n",
      "           3       0.00      0.00      0.00       2.0\n",
      "           4       0.00      0.00      0.00       2.0\n",
      "           5       0.00      0.00      0.00       2.0\n",
      "           6       0.00      0.00      0.00       2.0\n",
      "           7       0.00      0.00      0.00       2.0\n",
      "           8       0.00      0.00      0.00       2.0\n",
      "           9       0.00      0.00      0.00       2.0\n",
      "          10       0.00      0.00      0.00       2.0\n",
      "          11       0.00      0.00      0.00       2.0\n",
      "          12       0.00      0.00      0.00       2.0\n",
      "          13       0.00      0.00      0.00       2.0\n",
      "          14       0.00      0.00      0.00       2.0\n",
      "          15       0.00      0.00      0.00       2.0\n",
      "          16       0.00      0.00      0.00       2.0\n",
      "          17       0.00      0.00      0.00       2.0\n",
      "          18       0.00      0.00      0.00       2.0\n",
      "          19       0.00      0.00      0.00       2.0\n",
      "          20       0.00      0.00      0.00       2.0\n",
      "          21       0.00      0.00      0.00       2.0\n",
      "          22       0.00      0.00      0.00       2.0\n",
      "          23       0.00      0.00      0.00       2.0\n",
      "          24       0.00      0.00      0.00       2.0\n",
      "          25       0.00      0.00      0.00       2.0\n",
      "          26       0.00      0.00      0.00       2.0\n",
      "          27       0.00      0.00      0.00       2.0\n",
      "          28       0.00      0.00      0.00       2.0\n",
      "          29       0.00      0.00      0.00       2.0\n",
      "          30       0.00      0.00      0.00       2.0\n",
      "          31       0.00      0.00      0.00       2.0\n",
      "          32       0.00      0.00      0.00       2.0\n",
      "          33       0.00      0.00      0.00       2.0\n",
      "          34       0.00      0.00      0.00       2.0\n",
      "          35       0.00      0.00      0.00       2.0\n",
      "          36       0.00      0.00      0.00       2.0\n",
      "          37       0.00      0.00      0.00       2.0\n",
      "          38       0.00      0.00      0.00       2.0\n",
      "          39       0.00      0.00      0.00       2.0\n",
      "          40       0.00      0.00      0.00       2.0\n",
      "          41       0.00      0.00      0.00       2.0\n",
      "          42       0.00      0.00      0.00       2.0\n",
      "          43       0.00      0.00      0.00       2.0\n",
      "          44       0.00      0.00      0.00       2.0\n",
      "          45       0.00      0.00      0.00       2.0\n",
      "          46       0.00      0.00      0.00       2.0\n",
      "          47       0.00      0.00      0.00       2.0\n",
      "          48       0.00      0.00      0.00       2.0\n",
      "          49       0.00      0.00      0.00       2.0\n",
      "          50       0.00      0.00      0.00       2.0\n",
      "          51       0.00      0.00      0.00       2.0\n",
      "          52       0.00      0.00      0.00       2.0\n",
      "          53       0.00      0.00      0.00       2.0\n",
      "          54       0.00      0.00      0.00       2.0\n",
      "          55       0.00      0.00      0.00       2.0\n",
      "          56       0.00      0.00      0.00       2.0\n",
      "          57       0.00      0.00      0.00       2.0\n",
      "          58       0.00      0.00      0.00       2.0\n",
      "          59       0.00      0.00      0.00       2.0\n",
      "          60       0.00      0.00      0.00       2.0\n",
      "          61       0.00      0.00      0.00       2.0\n",
      "          62       0.00      0.00      0.00       2.0\n",
      "          63       0.00      0.00      0.00       2.0\n",
      "          64       0.00      0.00      0.00       2.0\n",
      "          65       0.00      0.00      0.00       2.0\n",
      "          66       0.00      0.00      0.00       2.0\n",
      "          67       0.00      0.00      0.00       2.0\n",
      "          68       0.00      0.00      0.00       2.0\n",
      "          69       0.00      0.00      0.00       2.0\n",
      "          70       0.00      0.00      0.00       2.0\n",
      "          71       0.00      0.00      0.00       2.0\n",
      "          72       0.00      0.00      0.00       2.0\n",
      "          73       0.00      0.00      0.00       2.0\n",
      "          74       0.00      0.00      0.00       2.0\n",
      "\n",
      "    accuracy                           0.00     150.0\n",
      "   macro avg       0.00      0.00      0.00     150.0\n",
      "weighted avg       0.00      0.00      0.00     150.0\n",
      "\n"
     ]
    },
    {
     "name": "stderr",
     "output_type": "stream",
     "text": [
      "/Users/precioux/Documents/Self-work/courses/pythonProject1/.venv/lib/python3.9/site-packages/sklearn/metrics/_classification.py:1565: UndefinedMetricWarning: Precision is ill-defined and being set to 0.0 in labels with no predicted samples. Use `zero_division` parameter to control this behavior.\n",
      "  _warn_prf(average, modifier, f\"{metric.capitalize()} is\", len(result))\n",
      "/Users/precioux/Documents/Self-work/courses/pythonProject1/.venv/lib/python3.9/site-packages/sklearn/metrics/_classification.py:1565: UndefinedMetricWarning: Precision is ill-defined and being set to 0.0 in labels with no predicted samples. Use `zero_division` parameter to control this behavior.\n",
      "  _warn_prf(average, modifier, f\"{metric.capitalize()} is\", len(result))\n",
      "/Users/precioux/Documents/Self-work/courses/pythonProject1/.venv/lib/python3.9/site-packages/sklearn/metrics/_classification.py:1565: UndefinedMetricWarning: Precision is ill-defined and being set to 0.0 in labels with no predicted samples. Use `zero_division` parameter to control this behavior.\n",
      "  _warn_prf(average, modifier, f\"{metric.capitalize()} is\", len(result))\n"
     ]
    }
   ],
   "execution_count": 4
  },
  {
   "metadata": {
    "ExecuteTime": {
     "end_time": "2025-07-25T23:04:49.797363Z",
     "start_time": "2025-07-25T23:04:49.734055Z"
    }
   },
   "cell_type": "code",
   "source": [
    "import numpy as np\n",
    "from sklearn.model_selection import train_test_split\n",
    "from sklearn.svm import SVC\n",
    "from sklearn.metrics import accuracy_score, classification_report\n",
    "\n",
    "# Assuming X_pca is shape (750, 100)\n",
    "labels = np.tile(np.arange(75), 10)  # shape (750,)\n",
    "\n",
    "# Train/test split\n",
    "X_train, X_test, y_train, y_test = train_test_split(X_pca, labels, test_size=0.2, random_state=42, stratify=labels)\n",
    "\n",
    "# SVC\n",
    "svc = SVC(kernel='linear', C=1)\n",
    "svc.fit(X_train, y_train)\n",
    "\n",
    "# Predict\n",
    "y_pred = svc.predict(X_test)\n",
    "\n",
    "# Evaluate\n",
    "print(\"Accuracy:\", accuracy_score(y_test, y_pred))\n",
    "print(classification_report(y_test, y_pred))\n"
   ],
   "id": "73dc372f00f299c4",
   "outputs": [
    {
     "name": "stdout",
     "output_type": "stream",
     "text": [
      "Accuracy: 0.0\n",
      "              precision    recall  f1-score   support\n",
      "\n",
      "           0       0.00      0.00      0.00       2.0\n",
      "           1       0.00      0.00      0.00       2.0\n",
      "           2       0.00      0.00      0.00       2.0\n",
      "           3       0.00      0.00      0.00       2.0\n",
      "           4       0.00      0.00      0.00       2.0\n",
      "           5       0.00      0.00      0.00       2.0\n",
      "           6       0.00      0.00      0.00       2.0\n",
      "           7       0.00      0.00      0.00       2.0\n",
      "           8       0.00      0.00      0.00       2.0\n",
      "           9       0.00      0.00      0.00       2.0\n",
      "          10       0.00      0.00      0.00       2.0\n",
      "          11       0.00      0.00      0.00       2.0\n",
      "          12       0.00      0.00      0.00       2.0\n",
      "          13       0.00      0.00      0.00       2.0\n",
      "          14       0.00      0.00      0.00       2.0\n",
      "          15       0.00      0.00      0.00       2.0\n",
      "          16       0.00      0.00      0.00       2.0\n",
      "          17       0.00      0.00      0.00       2.0\n",
      "          18       0.00      0.00      0.00       2.0\n",
      "          19       0.00      0.00      0.00       2.0\n",
      "          20       0.00      0.00      0.00       2.0\n",
      "          21       0.00      0.00      0.00       2.0\n",
      "          22       0.00      0.00      0.00       2.0\n",
      "          23       0.00      0.00      0.00       2.0\n",
      "          24       0.00      0.00      0.00       2.0\n",
      "          25       0.00      0.00      0.00       2.0\n",
      "          26       0.00      0.00      0.00       2.0\n",
      "          27       0.00      0.00      0.00       2.0\n",
      "          28       0.00      0.00      0.00       2.0\n",
      "          29       0.00      0.00      0.00       2.0\n",
      "          30       0.00      0.00      0.00       2.0\n",
      "          31       0.00      0.00      0.00       2.0\n",
      "          32       0.00      0.00      0.00       2.0\n",
      "          33       0.00      0.00      0.00       2.0\n",
      "          34       0.00      0.00      0.00       2.0\n",
      "          35       0.00      0.00      0.00       2.0\n",
      "          36       0.00      0.00      0.00       2.0\n",
      "          37       0.00      0.00      0.00       2.0\n",
      "          38       0.00      0.00      0.00       2.0\n",
      "          39       0.00      0.00      0.00       2.0\n",
      "          40       0.00      0.00      0.00       2.0\n",
      "          41       0.00      0.00      0.00       2.0\n",
      "          42       0.00      0.00      0.00       2.0\n",
      "          43       0.00      0.00      0.00       2.0\n",
      "          44       0.00      0.00      0.00       2.0\n",
      "          45       0.00      0.00      0.00       2.0\n",
      "          46       0.00      0.00      0.00       2.0\n",
      "          47       0.00      0.00      0.00       2.0\n",
      "          48       0.00      0.00      0.00       2.0\n",
      "          49       0.00      0.00      0.00       2.0\n",
      "          50       0.00      0.00      0.00       2.0\n",
      "          51       0.00      0.00      0.00       2.0\n",
      "          52       0.00      0.00      0.00       2.0\n",
      "          53       0.00      0.00      0.00       2.0\n",
      "          54       0.00      0.00      0.00       2.0\n",
      "          55       0.00      0.00      0.00       2.0\n",
      "          56       0.00      0.00      0.00       2.0\n",
      "          57       0.00      0.00      0.00       2.0\n",
      "          58       0.00      0.00      0.00       2.0\n",
      "          59       0.00      0.00      0.00       2.0\n",
      "          60       0.00      0.00      0.00       2.0\n",
      "          61       0.00      0.00      0.00       2.0\n",
      "          62       0.00      0.00      0.00       2.0\n",
      "          63       0.00      0.00      0.00       2.0\n",
      "          64       0.00      0.00      0.00       2.0\n",
      "          65       0.00      0.00      0.00       2.0\n",
      "          66       0.00      0.00      0.00       2.0\n",
      "          67       0.00      0.00      0.00       2.0\n",
      "          68       0.00      0.00      0.00       2.0\n",
      "          69       0.00      0.00      0.00       2.0\n",
      "          70       0.00      0.00      0.00       2.0\n",
      "          71       0.00      0.00      0.00       2.0\n",
      "          72       0.00      0.00      0.00       2.0\n",
      "          73       0.00      0.00      0.00       2.0\n",
      "          74       0.00      0.00      0.00       2.0\n",
      "\n",
      "    accuracy                           0.00     150.0\n",
      "   macro avg       0.00      0.00      0.00     150.0\n",
      "weighted avg       0.00      0.00      0.00     150.0\n",
      "\n"
     ]
    },
    {
     "name": "stderr",
     "output_type": "stream",
     "text": [
      "/Users/precioux/Documents/Self-work/courses/pythonProject1/.venv/lib/python3.9/site-packages/sklearn/metrics/_classification.py:1565: UndefinedMetricWarning: Precision is ill-defined and being set to 0.0 in labels with no predicted samples. Use `zero_division` parameter to control this behavior.\n",
      "  _warn_prf(average, modifier, f\"{metric.capitalize()} is\", len(result))\n",
      "/Users/precioux/Documents/Self-work/courses/pythonProject1/.venv/lib/python3.9/site-packages/sklearn/metrics/_classification.py:1565: UndefinedMetricWarning: Precision is ill-defined and being set to 0.0 in labels with no predicted samples. Use `zero_division` parameter to control this behavior.\n",
      "  _warn_prf(average, modifier, f\"{metric.capitalize()} is\", len(result))\n",
      "/Users/precioux/Documents/Self-work/courses/pythonProject1/.venv/lib/python3.9/site-packages/sklearn/metrics/_classification.py:1565: UndefinedMetricWarning: Precision is ill-defined and being set to 0.0 in labels with no predicted samples. Use `zero_division` parameter to control this behavior.\n",
      "  _warn_prf(average, modifier, f\"{metric.capitalize()} is\", len(result))\n"
     ]
    }
   ],
   "execution_count": 5
  },
  {
   "metadata": {
    "ExecuteTime": {
     "end_time": "2025-07-25T23:05:14.188215Z",
     "start_time": "2025-07-25T23:05:13.750668Z"
    }
   },
   "cell_type": "code",
   "source": [
    "from sklearn.metrics import confusion_matrix\n",
    "import seaborn as sns\n",
    "\n",
    "cm = confusion_matrix(y_test, y_pred)\n",
    "plt.figure(figsize=(10, 8))\n",
    "sns.heatmap(cm, annot=False, cmap='viridis')\n",
    "plt.title(\"Confusion Matrix\")\n",
    "plt.xlabel(\"Predicted\")\n",
    "plt.ylabel(\"True\")\n",
    "plt.show()\n"
   ],
   "id": "5a303fe4db63210d",
   "outputs": [
    {
     "data": {
      "text/plain": [
       "<Figure size 1000x800 with 2 Axes>"
      ],
      "image/png": "[encoded data removed]"
     },
     "metadata": {},
     "output_type": "display_data"
    }
   ],
   "execution_count": 6
  },
  {
   "metadata": {
    "ExecuteTime": {
     "end_time": "2025-07-25T23:06:44.985877Z",
     "start_time": "2025-07-25T23:06:44.983127Z"
    }
   },
   "cell_type": "code",
   "source": [
    "import numpy as np\n",
    "from collections import Counter\n",
    "\n",
    "labels = np.tile(np.arange(75), 10)  # shape (750,)\n",
    "print(Counter(labels))\n"
   ],
   "id": "8b5f43e32a2bd6ee",
   "outputs": [
    {
     "name": "stdout",
     "output_type": "stream",
     "text": [
      "Counter({np.int64(0): 10, np.int64(1): 10, np.int64(2): 10, np.int64(3): 10, np.int64(4): 10, np.int64(5): 10, np.int64(6): 10, np.int64(7): 10, np.int64(8): 10, np.int64(9): 10, np.int64(10): 10, np.int64(11): 10, np.int64(12): 10, np.int64(13): 10, np.int64(14): 10, np.int64(15): 10, np.int64(16): 10, np.int64(17): 10, np.int64(18): 10, np.int64(19): 10, np.int64(20): 10, np.int64(21): 10, np.int64(22): 10, np.int64(23): 10, np.int64(24): 10, np.int64(25): 10, np.int64(26): 10, np.int64(27): 10, np.int64(28): 10, np.int64(29): 10, np.int64(30): 10, np.int64(31): 10, np.int64(32): 10, np.int64(33): 10, np.int64(34): 10, np.int64(35): 10, np.int64(36): 10, np.int64(37): 10, np.int64(38): 10, np.int64(39): 10, np.int64(40): 10, np.int64(41): 10, np.int64(42): 10, np.int64(43): 10, np.int64(44): 10, np.int64(45): 10, np.int64(46): 10, np.int64(47): 10, np.int64(48): 10, np.int64(49): 10, np.int64(50): 10, np.int64(51): 10, np.int64(52): 10, np.int64(53): 10, np.int64(54): 10, np.int64(55): 10, np.int64(56): 10, np.int64(57): 10, np.int64(58): 10, np.int64(59): 10, np.int64(60): 10, np.int64(61): 10, np.int64(62): 10, np.int64(63): 10, np.int64(64): 10, np.int64(65): 10, np.int64(66): 10, np.int64(67): 10, np.int64(68): 10, np.int64(69): 10, np.int64(70): 10, np.int64(71): 10, np.int64(72): 10, np.int64(73): 10, np.int64(74): 10})\n"
     ]
    }
   ],
   "execution_count": 7
  },
  {
   "metadata": {},
   "cell_type": "code",
   "outputs": [],
   "execution_count": null,
   "source": "",
   "id": "ba93d739ddf9369c"
  }
 ],
 "metadata": {
  "kernelspec": {
   "display_name": "Python 3",
   "language": "python",
   "name": "python3"
  },
  "language_info": {
   "codemirror_mode": {
    "name": "ipython",
    "version": 2
   },
   "file_extension": ".py",
   "mimetype": "text/x-python",
   "name": "python",
   "nbconvert_exporter": "python",
   "pygments_lexer": "ipython2",
   "version": "2.7.6"
  }
 },
 "nbformat": 4,
 "nbformat_minor": 5
}
